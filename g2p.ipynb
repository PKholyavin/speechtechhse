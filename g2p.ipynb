{
  "nbformat": 4,
  "nbformat_minor": 0,
  "metadata": {
    "colab": {
      "provenance": []
    },
    "kernelspec": {
      "name": "python3",
      "display_name": "Python 3"
    },
    "language_info": {
      "name": "python"
    }
  },
  "cells": [
    {
      "cell_type": "code",
      "execution_count": 1,
      "metadata": {
        "colab": {
          "base_uri": "https://localhost:8080/"
        },
        "id": "_f2a26r9b8ER",
        "outputId": "5a838596-277a-429a-c39e-7fa214ed9ec3"
      },
      "outputs": [
        {
          "output_type": "stream",
          "name": "stdout",
          "text": [
            "Collecting phonetisaurus\n",
            "  Downloading phonetisaurus-0.3.0-py3-none-manylinux1_x86_64.whl (12.1 MB)\n",
            "\u001b[2K     \u001b[90m━━━━━━━━━━━━━━━━━━━━━━━━━━━━━━━━━━━━━━━━\u001b[0m \u001b[32m12.1/12.1 MB\u001b[0m \u001b[31m23.0 MB/s\u001b[0m eta \u001b[36m0:00:00\u001b[0m\n",
            "\u001b[?25hInstalling collected packages: phonetisaurus\n",
            "Successfully installed phonetisaurus-0.3.0\n"
          ]
        }
      ],
      "source": [
        "!pip install phonetisaurus"
      ]
    },
    {
      "cell_type": "markdown",
      "source": [
        "Код, который обучает модель (если вы захотите убедиться, что я вас не обманул)"
      ],
      "metadata": {
        "id": "UrUkVLU8IW1S"
      }
    },
    {
      "cell_type": "code",
      "source": [
        "!wget http://downloads.sourceforge.net/project/cmusphinx/Acoustic%20and%20Language%20Models/Russian/zero_ru_cont_8k_v3.tar.gz"
      ],
      "metadata": {
        "colab": {
          "base_uri": "https://localhost:8080/"
        },
        "id": "ns8LFBz9_wMK",
        "outputId": "95671b68-53a0-4f26-b8d5-6ed9acf4d676"
      },
      "execution_count": 4,
      "outputs": [
        {
          "output_type": "stream",
          "name": "stdout",
          "text": [
            "--2024-02-13 10:26:39--  http://downloads.sourceforge.net/project/cmusphinx/Acoustic%20and%20Language%20Models/Russian/zero_ru_cont_8k_v3.tar.gz\n",
            "Resolving downloads.sourceforge.net (downloads.sourceforge.net)... 204.68.111.105\n",
            "Connecting to downloads.sourceforge.net (downloads.sourceforge.net)|204.68.111.105|:80... connected.\n",
            "HTTP request sent, awaiting response... 302 Found\n",
            "Location: http://cytranet.dl.sourceforge.net/project/cmusphinx/Acoustic%20and%20Language%20Models/Russian/zero_ru_cont_8k_v3.tar.gz [following]\n",
            "--2024-02-13 10:26:39--  http://cytranet.dl.sourceforge.net/project/cmusphinx/Acoustic%20and%20Language%20Models/Russian/zero_ru_cont_8k_v3.tar.gz\n",
            "Resolving cytranet.dl.sourceforge.net (cytranet.dl.sourceforge.net)... 162.251.237.20\n",
            "Connecting to cytranet.dl.sourceforge.net (cytranet.dl.sourceforge.net)|162.251.237.20|:80... connected.\n",
            "HTTP request sent, awaiting response... 200 OK\n",
            "Length: 192976894 (184M) [application/x-gzip]\n",
            "Saving to: ‘zero_ru_cont_8k_v3.tar.gz’\n",
            "\n",
            "zero_ru_cont_8k_v3. 100%[===================>] 184.04M  25.3MB/s    in 7.8s    \n",
            "\n",
            "2024-02-13 10:26:47 (23.6 MB/s) - ‘zero_ru_cont_8k_v3.tar.gz’ saved [192976894/192976894]\n",
            "\n"
          ]
        }
      ]
    },
    {
      "cell_type": "code",
      "source": [
        "!gunzip -dc zero_ru_cont_8k_v3.tar.gz | tar -x"
      ],
      "metadata": {
        "id": "kyrr93yZ_y3A"
      },
      "execution_count": 5,
      "outputs": []
    },
    {
      "cell_type": "code",
      "source": [
        "!phonetisaurus train --model model.fst zero_ru_cont_8k_v3/ru.dic"
      ],
      "metadata": {
        "id": "Iwn-QdY7dYPD"
      },
      "execution_count": null,
      "outputs": []
    },
    {
      "cell_type": "markdown",
      "source": [
        "Скачать модель:"
      ],
      "metadata": {
        "id": "8P93FTQXLpvO"
      }
    },
    {
      "cell_type": "code",
      "source": [
        "!wget https://pkholyavin.github.io/speechtechhse/model.fst"
      ],
      "metadata": {
        "id": "_azAG5WQLA7s"
      },
      "execution_count": null,
      "outputs": []
    },
    {
      "cell_type": "markdown",
      "source": [
        "Использование модели: вариант 1"
      ],
      "metadata": {
        "id": "ynnvhXw2Ilj5"
      }
    },
    {
      "cell_type": "code",
      "source": [
        "!phonetisaurus predict --model model.fst апстену"
      ],
      "metadata": {
        "colab": {
          "base_uri": "https://localhost:8080/"
        },
        "id": "WTQZc4WkfPgy",
        "outputId": "246dc38b-8f82-425a-b9a8-b2b633e96b13"
      },
      "execution_count": 7,
      "outputs": [
        {
          "output_type": "stream",
          "name": "stdout",
          "text": [
            "апстену a p ss tt i n uu\n"
          ]
        }
      ]
    },
    {
      "cell_type": "markdown",
      "source": [
        "Вариант 2"
      ],
      "metadata": {
        "id": "YFq2LeDWIq3r"
      }
    },
    {
      "cell_type": "code",
      "source": [
        "import phonetisaurus"
      ],
      "metadata": {
        "id": "6wYZQV29cDuq"
      },
      "execution_count": 8,
      "outputs": []
    },
    {
      "cell_type": "code",
      "source": [
        "for word in phonetisaurus.predict(\"был тихий серый вечер\".split(), \"model.fst\"):\n",
        "    print(word)"
      ],
      "metadata": {
        "colab": {
          "base_uri": "https://localhost:8080/"
        },
        "id": "U7dsUuFxGeaj",
        "outputId": "513682af-aeb1-4dc0-a32d-3a1c2ed1520b"
      },
      "execution_count": 14,
      "outputs": [
        {
          "output_type": "stream",
          "name": "stdout",
          "text": [
            "('был', ['b', 'yy', 'l'])\n",
            "('тихий', ['tt', 'ii', 'hh', 'i', 'j'])\n",
            "('серый', ['ss', 'je', 'r', 'y', 'j'])\n",
            "('вечер', ['vv', 'je', 'ch', 'i', 'r'])\n"
          ]
        }
      ]
    }
  ]
}