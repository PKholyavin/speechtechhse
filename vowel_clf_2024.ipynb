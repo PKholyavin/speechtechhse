{
  "nbformat": 4,
  "nbformat_minor": 0,
  "metadata": {
    "colab": {
      "provenance": []
    },
    "kernelspec": {
      "name": "python3",
      "display_name": "Python 3"
    },
    "language_info": {
      "name": "python"
    }
  },
  "cells": [
    {
      "cell_type": "markdown",
      "source": [
        "Установим нужные библиотеки:"
      ],
      "metadata": {
        "id": "ymX_8VLV-4ej"
      }
    },
    {
      "cell_type": "code",
      "execution_count": null,
      "metadata": {
        "id": "j8vcKoUxHQRw"
      },
      "outputs": [],
      "source": [
        "!pip install praat-parselmouth"
      ]
    },
    {
      "cell_type": "markdown",
      "source": [
        "Скачаем данные:"
      ],
      "metadata": {
        "id": "bNrSqvUej1RJ"
      }
    },
    {
      "cell_type": "code",
      "source": [
        "!wget pkholyavin.github.io/speechtechhse/vowels01.zip\n",
        "!unzip vowels01.zip"
      ],
      "metadata": {
        "id": "Tq062-ESibVe"
      },
      "execution_count": null,
      "outputs": []
    },
    {
      "cell_type": "markdown",
      "source": [
        "Вычислим MFCC:"
      ],
      "metadata": {
        "id": "VYPqW0_Tj_Lq"
      }
    },
    {
      "cell_type": "code",
      "source": [
        "from librosa.feature import mfcc\n",
        "from librosa import load\n",
        "import numpy as np"
      ],
      "metadata": {
        "id": "Vg08ebCcj-1S"
      },
      "execution_count": 30,
      "outputs": []
    },
    {
      "cell_type": "code",
      "source": [
        "audio, sr = load(\"/content/vowels/vowels_all/a_andre_00003.wav\", sr=None)"
      ],
      "metadata": {
        "id": "UV59EYC_kegx"
      },
      "execution_count": 19,
      "outputs": []
    },
    {
      "cell_type": "code",
      "source": [
        "mfcc_coeffs = mfcc(y=audio, sr=sr)"
      ],
      "metadata": {
        "id": "WOKfcCavm1Sz"
      },
      "execution_count": 24,
      "outputs": []
    },
    {
      "cell_type": "code",
      "source": [
        "mfcc_coeffs[:, mfcc_coeffs.shape[1] // 2]  # вектор из середины\n",
        "np.mean(mfcc_coeffs, axis=1) # среднее значение"
      ],
      "metadata": {
        "id": "UOcjpI56nASb"
      },
      "execution_count": null,
      "outputs": []
    },
    {
      "cell_type": "markdown",
      "source": [
        "Вычислим значение первой и второй форманты:"
      ],
      "metadata": {
        "id": "17GUNJ4M_CQ9"
      }
    },
    {
      "cell_type": "code",
      "source": [
        "import parselmouth"
      ],
      "metadata": {
        "id": "fSqbjiheJgHs"
      },
      "execution_count": 32,
      "outputs": []
    },
    {
      "cell_type": "markdown",
      "source": [
        "Функция для вычисления формант в середине звукового файла:"
      ],
      "metadata": {
        "id": "okPs7iXj_HRA"
      }
    },
    {
      "cell_type": "code",
      "source": [
        "def get_formants(filename):\n",
        "  try:\n",
        "    sound = parselmouth.Sound(filename)\n",
        "  except parselmouth.PraatError:\n",
        "    return None, None\n",
        "  formants = sound.to_formant_burg()\n",
        "  return (\n",
        "      formants.get_value_at_time(1, formants.centre_time),\n",
        "      formants.get_value_at_time(2, formants.centre_time)\n",
        "  )"
      ],
      "metadata": {
        "id": "kjK_2MvAx8x3"
      },
      "execution_count": 33,
      "outputs": []
    },
    {
      "cell_type": "markdown",
      "source": [
        "Импортируем нужные библиотеки:"
      ],
      "metadata": {
        "id": "2aIK5n4J_MzM"
      }
    },
    {
      "cell_type": "code",
      "source": [
        "import glob\n",
        "from collections import defaultdict"
      ],
      "metadata": {
        "id": "WIvj1YjByMnM"
      },
      "execution_count": 34,
      "outputs": []
    },
    {
      "cell_type": "markdown",
      "source": [
        "Обработаем все файлы в папке:"
      ],
      "metadata": {
        "id": "gj3i9AfX_XmO"
      }
    },
    {
      "cell_type": "code",
      "source": [
        "data = defaultdict(list)\n",
        "sounddir = \"/content/vowels/vowels_all\" # сюда можно подставить другие папки\n",
        "files = glob.glob(f\"{sounddir}/**/*.wav\", recursive=True)\n",
        "for file in files:\n",
        "    f1, f2 = get_formants(file)\n",
        "    if f1 is not None:\n",
        "        data[file.split(\"/\")[-1].split(\"_\")[0]].append((f1, f2))"
      ],
      "metadata": {
        "id": "7F7_6BYUySJh"
      },
      "execution_count": 42,
      "outputs": []
    },
    {
      "cell_type": "markdown",
      "source": [
        "Нарисуем график:"
      ],
      "metadata": {
        "id": "BiSbsn3T_Z-d"
      }
    },
    {
      "cell_type": "code",
      "source": [
        "import matplotlib.pyplot as plt\n",
        "for vowel in data:\n",
        "    plt.scatter(*zip(*data[vowel]), label=vowel)\n",
        "plt.legend()\n",
        "plt.show()"
      ],
      "metadata": {
        "id": "7AdV6oFezZci"
      },
      "execution_count": null,
      "outputs": []
    },
    {
      "cell_type": "markdown",
      "source": [
        "Построим классификатор:"
      ],
      "metadata": {
        "id": "5tAiSzcc_cuZ"
      }
    },
    {
      "cell_type": "code",
      "source": [
        "from sklearn.neighbors import KNeighborsClassifier\n",
        "from sklearn.tree import DecisionTreeClassifier, plot_tree\n",
        "from sklearn.svm import SVC\n",
        "from random import shuffle"
      ],
      "metadata": {
        "id": "9H8PxXep00i_"
      },
      "execution_count": 37,
      "outputs": []
    },
    {
      "cell_type": "code",
      "source": [
        "clf = DecisionTreeClassifier() # здесь можно поставить любой другой из перечисленных выше и посмотреть, что получится\n",
        "training_data = [(el, label) for label in data for el in data[label] if label in [\"i\", \"a\", \"u\"]] # здесь можно перечислить те гласные, которые будем различать (их всего 6: i e a o u y)\n",
        "shuffle(training_data)\n",
        "cutoff = int(len(training_data) * 0.9)\n",
        "training_data, test_data = training_data[:cutoff], training_data[cutoff:]\n",
        "clf.fit(*zip(*training_data))"
      ],
      "metadata": {
        "id": "N8G0by9K1JGk"
      },
      "execution_count": null,
      "outputs": []
    },
    {
      "cell_type": "markdown",
      "source": [
        "Протестируем модель:"
      ],
      "metadata": {
        "id": "OlbfMbhU_0BV"
      }
    },
    {
      "cell_type": "code",
      "source": [
        "from sklearn.metrics import accuracy_score"
      ],
      "metadata": {
        "id": "4tSzb2Ka3ltC"
      },
      "execution_count": 45,
      "outputs": []
    },
    {
      "cell_type": "code",
      "source": [
        "test_features, test_labels = zip(*test_data)\n",
        "pred = clf.predict(test_features)\n",
        "print(accuracy_score(test_labels, pred))"
      ],
      "metadata": {
        "id": "cFMkZr-_21R9"
      },
      "execution_count": null,
      "outputs": []
    },
    {
      "cell_type": "markdown",
      "source": [
        "Если мы использовали дерево, попробуем его визуализировать:"
      ],
      "metadata": {
        "id": "gWz7BYhz_20e"
      }
    },
    {
      "cell_type": "code",
      "source": [
        "fig, ax = plt.subplots()\n",
        "plot_tree(clf)\n",
        "plt.savefig(\"tree.pdf\")"
      ],
      "metadata": {
        "id": "IyCByPqMAYW7"
      },
      "execution_count": null,
      "outputs": []
    },
    {
      "cell_type": "markdown",
      "source": [
        "Эта ячейка - для тестирования модели на своих данных (запишите свой голос и загрузите файл)"
      ],
      "metadata": {
        "id": "CS4ZlGP2-zxd"
      }
    },
    {
      "cell_type": "code",
      "source": [
        "f1, f2 = get_formants(\"u.wav\")\n",
        "print(f1, f2)"
      ],
      "metadata": {
        "id": "4MFLLyUU8grD"
      },
      "execution_count": null,
      "outputs": []
    },
    {
      "cell_type": "code",
      "source": [
        "clf.predict([(f1, f2)])"
      ],
      "metadata": {
        "id": "CXs2hfdE8ml9"
      },
      "execution_count": null,
      "outputs": []
    }
  ]
}