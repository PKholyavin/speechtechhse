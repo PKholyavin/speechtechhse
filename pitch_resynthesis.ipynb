{
 "cells": [
  {
   "cell_type": "code",
   "execution_count": null,
   "metadata": {},
   "outputs": [],
   "source": [
    "!pip install praat-parselmouth\n",
    "!pip install tgt"
   ]
  },
  {
   "cell_type": "code",
   "execution_count": 9,
   "metadata": {},
   "outputs": [],
   "source": [
    "import parselmouth\n",
    "import tgt\n",
    "import numpy as np"
   ]
  },
  {
   "cell_type": "code",
   "execution_count": null,
   "metadata": {},
   "outputs": [],
   "source": [
    "!wget https://pkholyavin.github.io/speechtechhse/sample.wav"
   ]
  },
  {
   "cell_type": "markdown",
   "metadata": {},
   "source": [
    "Умножим в аудиофайле все значения частоты основного тона на 1.2"
   ]
  },
  {
   "cell_type": "code",
   "execution_count": 8,
   "metadata": {},
   "outputs": [],
   "source": [
    "snd = parselmouth.Sound(\"sample.wav\")\n",
    "step, min_f0, max_f0 = 0.01, 75, 600  # s, Hz, Hz\n",
    "manip = parselmouth.praat.call(snd, \"To Manipulation\", step, min_f0, max_f0)\n",
    "pitch_tier = parselmouth.praat.call(manip, \"Extract pitch tier\")\n",
    "factor = 1.2\n",
    "parselmouth.praat.call(pitch_tier, \"Multiply frequencies\", snd.xmin, snd.xmax, factor)\n",
    "parselmouth.praat.call([manip, pitch_tier], \"Replace pitch tier\")\n",
    "snd_new = parselmouth.praat.call(manip, \"Get resynthesis (overlap-add)\")\n",
    "snd_new.save(\"sample_mod.wav\", \"WAV\")"
   ]
  },
  {
   "cell_type": "markdown",
   "metadata": {},
   "source": [
    "Создадим новый Pitch Tier с теми же данными"
   ]
  },
  {
   "cell_type": "code",
   "execution_count": 10,
   "metadata": {},
   "outputs": [],
   "source": [
    "empty_pitch_tier = parselmouth.praat.call(\"Create PitchTier\", \"new_pitch_tier\", snd.xmin, snd.xmax)\n",
    "for t in np.arange(snd.xmin, snd.xmax, 0.01):\n",
    "    val = parselmouth.praat.call(pitch_tier, \"Get value at time\", t)\n",
    "    parselmouth.praat.call(empty_pitch_tier, \"Add point\", t, val * factor)"
   ]
  },
  {
   "cell_type": "markdown",
   "metadata": {},
   "source": [
    "Прочитаем TextGrid"
   ]
  },
  {
   "cell_type": "code",
   "execution_count": null,
   "metadata": {},
   "outputs": [],
   "source": [
    "grid = tgt.io.read_textgrid(\"sample.TextGrid\")\n",
    "print(grid.tiers)"
   ]
  },
  {
   "cell_type": "code",
   "execution_count": null,
   "metadata": {},
   "outputs": [],
   "source": [
    "ideal_level = grid.get_tier_by_name(\"ideal\")\n",
    "print(ideal_level)"
   ]
  },
  {
   "cell_type": "code",
   "execution_count": null,
   "metadata": {},
   "outputs": [],
   "source": [
    "for interval in ideal_level:\n",
    "    print(interval.start_time, interval.end_time, interval.text)"
   ]
  },
  {
   "cell_type": "code",
   "execution_count": null,
   "metadata": {},
   "outputs": [],
   "source": [
    "mean_pitch = {\n",
    "    \"av37fpt1\": 132.3125534649465,\n",
    "    \"a37fpt1\": 243.86427644850252,\n",
    "    \"G_fpt1_37\": 139.35950756632505,\n",
    "    \"i37fpt1\": 126.66396671120256,\n",
    "    \"j037fpt1\": 219.466435281888,\n",
    "    \"m37fpt1\": 195.44662943982718,\n",
    "    \"n37fpt1\": 242.10572009155013\n",
    "}"
   ]
  }
 ],
 "metadata": {
  "kernelspec": {
   "display_name": "Python 3",
   "language": "python",
   "name": "python3"
  },
  "language_info": {
   "codemirror_mode": {
    "name": "ipython",
    "version": 3
   },
   "file_extension": ".py",
   "mimetype": "text/x-python",
   "name": "python",
   "nbconvert_exporter": "python",
   "pygments_lexer": "ipython3",
   "version": "3.9.0"
  }
 },
 "nbformat": 4,
 "nbformat_minor": 2
}
